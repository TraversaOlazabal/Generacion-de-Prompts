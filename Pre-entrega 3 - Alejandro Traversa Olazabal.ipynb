{
 "cells": [
  {
   "cell_type": "markdown",
   "id": "b053bdd6-746c-4206-9fe7-044a3a7a1da5",
   "metadata": {},
   "source": [
    "# Proyecto Final CoderHouse"
   ]
  },
  {
   "cell_type": "markdown",
   "id": "8ca924d3-5ffa-4786-9483-e0228be96691",
   "metadata": {},
   "source": [
    "# Asistente Virtual de Inversiones Personalizadas"
   ]
  },
  {
   "cell_type": "markdown",
   "id": "00e434ec-d2e0-4873-b8fe-f7d038b0b32c",
   "metadata": {},
   "source": [
    "## Alumno: Alejandro Traversa Olazabal"
   ]
  },
  {
   "cell_type": "markdown",
   "id": "204c0b88-5c2b-4e52-9d05-5face3f45357",
   "metadata": {},
   "source": [
    "Nombre del Curso: Inteligencia artificial: Generación de Prompts"
   ]
  },
  {
   "cell_type": "markdown",
   "id": "f943c7d1-46a7-4c7c-becf-2ee71d7a8195",
   "metadata": {},
   "source": [
    "N.º de Comisión: 67115"
   ]
  },
  {
   "cell_type": "markdown",
   "id": "0bce1d48-f63a-4e1d-9284-96fe59dee5b9",
   "metadata": {},
   "source": [
    "Nombre del Profesor: Ezequiel Tartaglia"
   ]
  },
  {
   "cell_type": "markdown",
   "id": "dec461c7-b149-4d5d-8164-1ef4878aeefd",
   "metadata": {},
   "source": [
    "Nombre del Tutor: Hugo Mon"
   ]
  },
  {
   "cell_type": "markdown",
   "id": "67852be8-6f2f-415b-a6a2-50707a551f0b",
   "metadata": {},
   "source": [
    "### Presentación del problema a abordar"
   ]
  },
  {
   "cell_type": "markdown",
   "id": "9a818762-d8fd-43cb-a6dc-17841754dac8",
   "metadata": {},
   "source": [
    "El mundo de las inversiones puede parecer complejo y abrumador para personas sin conocimientos previos. La falta de educación financiera y el temor a perder dinero impiden que muchos se animen a invertir, perdiendo la oportunidad de generar ingresos pasivos y asegurar un mejor futuro económico.\n",
    "\n",
    "En un contexto económico incierto como el de Argentina, donde la inflación y la volatilidad de los mercados afectan directamente la capacidad de ahorro e inversión de las personas, muchas familias y pequeños inversores carecen de acceso a asesoramiento financiero profesional. Esto limita su capacidad para preservar o hacer crecer su capital."
   ]
  }
 ],
 "metadata": {
  "kernelspec": {
   "display_name": "Python 3 (ipykernel)",
   "language": "python",
   "name": "python3"
  },
  "language_info": {
   "codemirror_mode": {
    "name": "ipython",
    "version": 3
   },
   "file_extension": ".py",
   "mimetype": "text/x-python",
   "name": "python",
   "nbconvert_exporter": "python",
   "pygments_lexer": "ipython3",
   "version": "3.10.15"
  }
 },
 "nbformat": 4,
 "nbformat_minor": 5
}
