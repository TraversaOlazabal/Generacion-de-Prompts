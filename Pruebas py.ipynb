{
 "cells": [
  {
   "cell_type": "markdown",
   "id": "07fa959f-cdc6-4465-847a-8687f004728c",
   "metadata": {},
   "source": [
    "#titulo"
   ]
  },
  {
   "cell_type": "markdown",
   "id": "23ad5162-8034-49f7-bc5e-9f27a70d9851",
   "metadata": {},
   "source": [
    "##subtitulo"
   ]
  },
  {
   "cell_type": "markdown",
   "id": "552f78a6-a8aa-4191-85c4-d00605bead01",
   "metadata": {},
   "source": [
    "###subtitulito"
   ]
  }
 ],
 "metadata": {
  "kernelspec": {
   "display_name": "Python 3 (ipykernel)",
   "language": "python",
   "name": "python3"
  },
  "language_info": {
   "codemirror_mode": {
    "name": "ipython",
    "version": 3
   },
   "file_extension": ".py",
   "mimetype": "text/x-python",
   "name": "python",
   "nbconvert_exporter": "python",
   "pygments_lexer": "ipython3",
   "version": "3.10.15"
  }
 },
 "nbformat": 4,
 "nbformat_minor": 5
}
