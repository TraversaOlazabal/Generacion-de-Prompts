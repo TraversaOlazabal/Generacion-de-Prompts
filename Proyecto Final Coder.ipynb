{
 "cells": [
  {
   "cell_type": "markdown",
   "metadata": {},
   "source": [
    "# Trabajo Final: Generación Automática de Logos de Empresa usando OpenAI GPT-4 y DALL-E\n",
    "\n",
    "## Resumen\n",
    "\n",
    "El objetivo de este proyecto es desarrollar un sistema que genere automáticamente un logo para una empresa basado en su descripción, misión, visión y datos sobre sus empleados. Utilizaremos la API de OpenAI para GPT-4 para generar una descripción textual del logo y luego la API de DALL-E para convertir esa descripción en una imagen.\n",
    "\n",
    "## Índice\n",
    "\n",
    "1. Introducción\n",
    "2. Objetivos\n",
    "3. Metodología\n",
    "4. Herramientas y Tecnologías\n",
    "5. Implementación\n",
    "6. Resultados\n",
    "7. Conclusiones\n",
    "8. Referencias\n",
    "\n",
    "### 1. Introducción\n",
    "\n",
    "Explicación del problema, justificación y alcance del proyecto.\n",
    "\n",
    "### 2. Objetivos\n",
    "\n",
    "- Generar una descripción textual de un logo basada en la información de la empresa.\n",
    "- Convertir la descripción textual en una imagen utilizando DALL-E.\n",
    "\n",
    "### 3. Metodología\n",
    "\n",
    "1. Recopilación de Datos: Obtener información sobre la empresa (descripción, misión, visión, empleados).\n",
    "2. Procesamiento de Texto: Utilizar GPT-4 para generar una descripción textual del logo.\n",
    "3. Generación de Imagen: Utilizar DALL-E para convertir la descripción en una imagen.\n",
    "\n",
    "### 4. Herramientas y Tecnologías\n",
    "\n",
    "- Python\n",
    "- OpenAI GPT-4 API\n",
    "- OpenAI DALL-E API\n",
    "\n"
   ]
  }
 ],
 "metadata": {
  "kernelspec": {
   "display_name": "Python 3",
   "language": "python",
   "name": "python3"
  },
  "language_info": {
   "codemirror_mode": {
    "name": "ipython",
    "version": 3
   },
   "file_extension": ".py",
   "mimetype": "text/x-python",
   "name": "python",
   "nbconvert_exporter": "python",
   "pygments_lexer": "ipython3",
   "version": "3.9.7"
  }
 },
 "nbformat": 4,
 "nbformat_minor": 5
}
